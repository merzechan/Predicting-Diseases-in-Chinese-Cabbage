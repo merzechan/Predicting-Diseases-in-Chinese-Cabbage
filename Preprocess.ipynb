{
 "cells": [
  {
   "cell_type": "code",
   "execution_count": null,
   "id": "b1c56fb4",
   "metadata": {},
   "outputs": [],
   "source": [
    "import splitfolder"
   ]
  },
  {
   "cell_type": "code",
   "execution_count": null,
   "id": "7403256a",
   "metadata": {},
   "outputs": [],
   "source": []
  },
  {
   "cell_type": "code",
   "execution_count": null,
   "id": "063acebe",
   "metadata": {},
   "outputs": [],
   "source": []
  }
 ],
 "metadata": {
  "kernelspec": {
   "display_name": "Python 3",
   "language": "python",
   "name": "python3"
  }
 },
 "nbformat": 4,
 "nbformat_minor": 5
}
